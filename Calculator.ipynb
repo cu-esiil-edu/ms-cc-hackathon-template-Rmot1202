{
 "cells": [
  {
   "cell_type": "markdown",
   "id": "9d498e65",
   "metadata": {},
   "source": [
    "# 🌱 Household Carbon Footprint Calculator\n",
    "## Import\n",
    "## 🔧 Streamlit + OpenAI Setup\n",
    "\n",
    "This snippet initializes a basic Streamlit app and sets up the OpenAI API client.  \n",
    "You can use it as a starting point for building apps that interact with GPT models or other OpenAI services.\n"
   ]
  },
  {
   "cell_type": "code",
   "execution_count": null,
   "id": "45b8395c",
   "metadata": {
    "vscode": {
     "languageId": "plaintext"
    }
   },
   "outputs": [],
   "source": [
    "import streamlit as st\n",
    "import matplotlib.pyplot as plt\n",
    "import openai\n",
    "\n",
    "client = openai.OpenAI(api_key=\"\")  # Replace with your actual API key\n",
    "\n",
    "# --- Page Setup ---\n",
    "st.set_page_config(page_title=\"Household Carbon Footprint Calculator\", page_icon=\"🌱\", layout=\"wide\")\n"
   ]
  },
  {
   "cell_type": "markdown",
   "id": "291a88aa",
   "metadata": {},
   "source": [
    "## 🌍 Household Carbon Footprint Calculator – Page Setup\n",
    "\n",
    "This section sets the configuration and applies custom CSS styling to enhance the layout and appearance of your Streamlit app.  \n",
    "It includes:\n",
    "\n",
    "- Page title and layout settings\n",
    "- Styled containers for display\n",
    "- Grid-based calculator buttons\n",
    "- Custom button styling\n",
    "- Centered headers and subtitles"
   ]
  },
  {
   "cell_type": "code",
   "execution_count": null,
   "id": "c52006e8",
   "metadata": {
    "vscode": {
     "languageId": "plaintext"
    }
   },
   "outputs": [],
   "source": [
    "# --- Page Setup ---\n",
    "st.set_page_config(page_title=\"Household Carbon Footprint Calculator\", page_icon=\"🌱\", layout=\"wide\")\n",
    "\n",
    "# --- CSS Styling ---\n",
    "st.markdown(\"\"\"\n",
    "    <style>\n",
    "        .calc-container {\n",
    "            width: 320px;\n",
    "            margin: 30px auto;\n",
    "            padding: 10px;\n",
    "            background: #ddd;\n",
    "            border-radius: 15px;\n",
    "            box-shadow: 0px 0px 12px rgba(0,0,0,0.15);\n",
    "        }\n",
    "        .calc-screen {\n",
    "            background: #fefefe;\n",
    "            border-radius: 8px;\n",
    "            padding: 15px;\n",
    "            text-align: right;\n",
    "            box-shadow: inset 0px 0px 4px #aaa;\n",
    "            margin-bottom: 15px;\n",
    "            font-family: 'Courier New', monospace;\n",
    "        }\n",
    "        .calc-line-original {\n",
    "            font-size: 16px;\n",
    "            color: #999;\n",
    "            font-weight: bold\n",
    "        }\n",
    "        .calc-line-reduced {\n",
    "            font-size: 16px;\n",
    "            font-weight: bold;\n",
    "            color: #2E8B57;\n",
    "        }\n",
    "        .calc-buttons {\n",
    "            display: grid;\n",
    "            grid-template-columns: repeat(4, 1fr);\n",
    "            gap: 10px;\n",
    "        }\n",
    "        .calc-btn {\n",
    "            padding: 15px;\n",
    "            text-align: center;\n",
    "            background: #f0f0f0;\n",
    "            border-radius: 8px;\n",
    "            font-weight: bold;\n",
    "            font-size: 18px;\n",
    "            box-shadow: 1px 1px 3px rgba(0,0,0,0.1);\n",
    "            user-select: none;\n",
    "        }\n",
    "        .btn-clear {\n",
    "            background: #f88;\n",
    "            color: white;\n",
    "        }\n",
    "        .btn-delete {\n",
    "            background: #aaf;\n",
    "            color: white;\n",
    "        }\n",
    "        .centered-title {\n",
    "            text-align: center;\n",
    "            color: #2E8B57;\n",
    "            font-size: 36px;\n",
    "            font-weight: bold;\n",
    "            margin-top: 10px;\n",
    "            margin-bottom: 0;\n",
    "        }\n",
    "        .subtitle {\n",
    "            text-align: center;\n",
    "            color: #497;\n",
    "            font-size: 22px;\n",
    "            margin-top: 10px;\n",
    "            margin-bottom: 40px;\n",
    "        }\n",
    "        .stButton > button {\n",
    "            height: 100px;\n",
    "            width: 200px;\n",
    "            font-size: 20px !important;\n",
    "        }\n",
    "    </style>\n",
    "\"\"\", unsafe_allow_html=True)"
   ]
  },
  {
   "cell_type": "markdown",
   "id": "4693fb06",
   "metadata": {},
   "source": [
    "## 🧭 Title, State Management & Navigation – Carbon Calculator\n",
    "\n",
    "This section:\n",
    "- Displays a custom **title** and **subtitle** using HTML/CSS\n",
    "- Initializes **session state variables** for tracking emissions and user progress\n",
    "- Provides **navigation buttons** for switching between calculator sections: Energy, Travel, Consumption, and Results\n"
   ]
  },
  {
   "cell_type": "code",
   "execution_count": null,
   "id": "08e49f67",
   "metadata": {
    "vscode": {
     "languageId": "plaintext"
    }
   },
   "outputs": [],
   "source": [
    "# --- Title and Subtitle ---\n",
    "st.markdown('<div class=\"centered-title\">🏠 Household Carbon Footprint Calculator</div>', unsafe_allow_html=True)\n",
    "st.markdown('<div class=\"subtitle\">Sources of Carbon in a Household</div>', unsafe_allow_html=True)\n",
    "\n",
    "# --- Session state initialization ---\n",
    "if \"selected_menu\" not in st.session_state:\n",
    "    st.session_state.selected_menu = None\n",
    "if \"energy_emission\" not in st.session_state:\n",
    "    st.session_state.energy_emission = 0.0\n",
    "if \"transport_emissions\" not in st.session_state:\n",
    "    st.session_state.transport_emissions = 0.0\n",
    "if \"consumption_today_emissions\" not in st.session_state:\n",
    "    st.session_state.consumption_today_emissions = 0.0\n",
    "if \"completed_sections\" not in st.session_state:\n",
    "    st.session_state.completed_sections = set()\n",
    "if \"reduction_choices\" not in st.session_state:\n",
    "    st.session_state.reduction_choices = {\n",
    "        \"energy\": set(),\n",
    "        \"travel\": set(),\n",
    "        \"food\": set()\n",
    "    }\n",
    "\n",
    "# --- Navigation Buttons ---\n",
    "col1, col2, col3, col4 = st.columns(4)\n",
    "\n",
    "\n",
    "with col1:\n",
    "    if st.button(\"⚡ Energy\"):\n",
    "        st.session_state.selected_menu = \"Energy\"\n",
    "with col2:\n",
    "    if st.button(\"🚗 Travel\"):\n",
    "        st.session_state.selected_menu = \"Travel\"\n",
    "with col3:\n",
    "    if st.button(\"🍽️ Consumption\"):\n",
    "        st.session_state.selected_menu = \"Consumption\"\n",
    "\n",
    "with col4:\n",
    "    if st.button(\"📊 Results\"):\n",
    "        st.session_state.selected_menu = \"Results\"\n",
    " \n",
    "\n",
    "selected_menu = st.session_state.selected_menu"
   ]
  }
 ],
 "metadata": {
  "language_info": {
   "name": "python"
  }
 },
 "nbformat": 4,
 "nbformat_minor": 5
}
